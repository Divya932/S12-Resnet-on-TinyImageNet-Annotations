{
 "cells": [
  {
   "cell_type": "markdown",
   "metadata": {},
   "source": [
    "## Finding best K clusters for 50 dogs Dataset  \n",
    "Step 1: Create an image cordinates dictionary with image id as key and list of image width and height as value.  \n",
    "Step 2: Create a bbox width dictionary, and a bbox height dictionary.  \n",
    "Step 3: Divide corresponding bbox width and height with image width and height respectively to normalize the values and store the quotient's log values in different lists.  \n",
    "Step 4: Plot logw Vs logh  \n",
    "Step 5: Select 2 random points as cluster centers called centroids  \n",
    "Step 6: Assign each data point to the closest cluster by calculating its distance with respect to each centroid  \n",
    "Step 7: Determine the new cluster center by computing the average of the assigned points  \n",
    "Step 8: Repeat steps 6 and 7 until none of the cluster assignments change  \n",
    "Step 9: Find WCSS: the **sum of the squared distance** between each member of the cluster and its centroid. Sum((dist(Pi,Ci))^2) -- done using wcss.append(kmeans.inertia_)  \n",
    "Step 10: Plot Elbow graph( No. of clusters Vs. Wcss )  \n",
    "Step 11: Find optimum K.  \n",
    "Step 12: Plot the final clustered graph."
   ]
  },
  {
   "cell_type": "code",
   "execution_count": 54,
   "metadata": {},
   "outputs": [],
   "source": [
    "import json\n",
    "import math\n",
    "import numpy as np\n",
    "import matplotlib.pyplot as plt\n",
    "from sklearn.cluster import KMeans"
   ]
  },
  {
   "cell_type": "code",
   "execution_count": 55,
   "metadata": {},
   "outputs": [
    {
     "name": "stdout",
     "output_type": "stream",
     "text": [
      "{'0': [400, 326], '1': [448, 336], '2': [200, 133], '3': [500, 375], '4': [200, 133], '5': [500, 375], '6': [500, 375], '7': [500, 375], '8': [500, 375], '9': [500, 333], '10': [295, 216], '11': [500, 360], '12': [482, 500], '13': [228, 224], '14': [333, 500], '15': [500, 333], '16': [500, 328], '17': [300, 213], '18': [320, 240], '19': [500, 375], '20': [320, 240], '21': [360, 270], '22': [332, 332], '23': [500, 392], '24': [432, 289], '25': [400, 397], '26': [400, 300], '27': [500, 375], '28': [500, 400], '29': [500, 375], '30': [354, 500], '31': [500, 333], '32': [368, 326], '33': [500, 375], '34': [354, 256], '35': [240, 240], '36': [338, 388], '37': [329, 480], '38': [500, 375], '39': [600, 480], '40': [500, 397], '41': [500, 354], '42': [500, 375], '43': [500, 375], '44': [500, 348], '45': [500, 375], '46': [500, 333], '47': [500, 375], '48': [227, 341], '49': [251, 300]}\n",
      "\n",
      "{'0': [269, 293], '1': [76, 136, 85, 93, 103, 75], '2': [145, 127], '3': [411, 334], '4': [251, 184, 217, 135], '5': [315, 172], '6': [427, 207], '7': [141, 210], '8': [191, 189], '9': [375, 283], '10': [297, 384], '11': [183, 205], '12': [133, 186, 146, 172], '13': [476, 303], '14': [394, 303], '15': [251, 182], '16': [144, 219], '17': [437, 349], '18': [219, 199], '19': [162, 225, 163, 247], '20': [154, 254], '21': [342, 383], '22': [308, 199], '23': [193, 376, 244, 264], '24': [345, 231], '25': [370, 246], '26': [229, 211], '27': [199, 259], '28': [300, 432], '29': [265, 235], '30': [323, 299], '31': [303, 265, 322, 158], '32': [66, 94], '33': [235, 205], '34': [272, 353], '35': [253, 459], '36': [97, 254], '37': [472, 328], '38': [444, 355], '39': [488, 297], '40': [482, 316], '41': [327, 268], '42': [167, 222], '43': [364, 320], '44': [307, 303], '45': [382, 164], '46': [197, 319], '47': [277, 210], '48': [411, 365], '49': [200, 280]}\n"
     ]
    }
   ],
   "source": [
    "#opening json file\n",
    "f = open('dogs_coco.json')\n",
    "\n",
    "#open json data as a dictionary\n",
    "data = json.load(f)\n",
    "\n",
    "# step 1: create im_coord dictionary\n",
    "im_coord = {}\n",
    "for i in data['images']:\n",
    "    key = str(i['id'])\n",
    "    im_coord[key] = [i['width'],i['height']]\n",
    "    \n",
    "print(im_coord)\n",
    "\n",
    "# step 2: create bbox dictionary\n",
    "bbox_cord = {}\n",
    "for j in data['annotations']:\n",
    "    key = j['image_id']\n",
    "    if key not in bbox_cord:\n",
    "        bbox_cord[key] = [j['bbox'][2], j['bbox'][3]]\n",
    "    else:\n",
    "        bbox_cord[key].append(j['bbox'][2])\n",
    "        bbox_cord[key].append(j['bbox'][3])\n",
    "        \n",
    "print()    \n",
    "print(bbox_cord)"
   ]
  },
  {
   "cell_type": "code",
   "execution_count": 56,
   "metadata": {},
   "outputs": [],
   "source": [
    "# step 3\n",
    "logw = []\n",
    "logh = []\n",
    "for im in im_coord:\n",
    "    if(len(bbox_cord[im]) == 2):\n",
    "        logw.append(math.log(bbox_cord[im][0]/im_coord[im][0]))\n",
    "        logh.append(math.log(bbox_cord[im][1])/im_coord[im][1])\n",
    "    if(len(bbox_cord[im]) > 2):\n",
    "        l = 0\n",
    "        while(l < len(bbox_cord[im])):\n",
    "            if(l%2 == 0):\n",
    "                logw.append(math.log(bbox_cord[im][l]/im_coord[im][0]))\n",
    "                logh.append(math.log(bbox_cord[im][l+1]/im_coord[im][1]))\n",
    "                \n",
    "            l+=2"
   ]
  },
  {
   "cell_type": "code",
   "execution_count": 57,
   "metadata": {},
   "outputs": [
    {
     "data": {
      "text/plain": [
       "Text(0, 0.5, 'Normalised bbox height')"
      ]
     },
     "execution_count": 57,
     "metadata": {},
     "output_type": "execute_result"
    },
    {
     "data": {
      "image/png": "[encoded data removed]",
      "text/plain": [
       "<Figure size 432x288 with 1 Axes>"
      ]
     },
     "metadata": {
      "needs_background": "light"
     },
     "output_type": "display_data"
    }
   ],
   "source": [
    "# step 4\n",
    "plt.scatter(logw,logh)\n",
    "plt.xlabel(\"Normalised bbox width\")\n",
    "plt.ylabel(\"Normalised bbox height\")"
   ]
  },
  {
   "cell_type": "code",
   "execution_count": 58,
   "metadata": {},
   "outputs": [
    {
     "name": "stdout",
     "output_type": "stream",
     "text": [
      "[[-0.39675317  0.01742384]\n",
      " [-1.77405989 -0.90445627]\n",
      " [-1.66214198 -1.28451167]\n",
      " [-1.47006424 -1.49962305]\n",
      " [-0.32158362  0.03642246]\n",
      " [-0.19601488  0.01549638]\n",
      " [ 0.22713557  0.32458663]\n",
      " [ 0.08157999  0.01492565]\n",
      " [-0.46203546  0.01372665]\n",
      " [-0.15782409  0.01422058]\n",
      " [-1.26584821  0.01425895]\n",
      " [-0.96233467  0.01397799]\n",
      " [-0.28768207  0.01695329]\n",
      " [ 0.00675678  0.02754927]\n",
      " [-1.00512195  0.01478614]\n",
      " [-1.28759499 -0.98886142]\n",
      " [-1.19433749 -1.06711362]\n",
      " [ 0.73607223  0.02550774]\n",
      " [ 0.16820842  0.01142747]\n",
      " [-0.68915516  0.01562765]\n",
      " [-1.2447948   0.0164301 ]\n",
      " [ 0.37615072  0.0274886 ]\n",
      " [-0.37924927  0.02205544]\n",
      " [-1.12701176 -0.51082562]\n",
      " [-1.1208579  -0.41753769]\n",
      " [-0.73136839  0.02307223]\n",
      " [-0.05129329  0.02202976]\n",
      " [-0.07503519  0.01594369]\n",
      " [-0.95191791 -0.0416727 ]\n",
      " [-0.71743987 -0.39531274]\n",
      " [-0.22488117  0.0188319 ]\n",
      " [-0.07796154  0.01386733]\n",
      " [-0.55774254  0.01783953]\n",
      " [-0.92130327  0.01481821]\n",
      " [-0.51082562  0.01517106]\n",
      " [-0.63487827  0.01455889]\n",
      " [-0.09164459  0.01140089]\n",
      " [-0.50087529 -0.22841266]\n",
      " [-0.44005655 -0.74554746]\n",
      " [-1.7184282   0.01393649]\n",
      " [-0.75502258  0.01419469]\n",
      " [-0.26349485  0.02291589]\n",
      " [ 0.05275057  0.02553771]\n",
      " [-1.24833492  0.01427148]\n",
      " [ 0.36092123  0.01206878]\n",
      " [-0.11878354  0.01565898]\n",
      " [-0.20661425  0.01186194]\n",
      " [-0.03666398  0.01449809]\n",
      " [-0.42464793  0.01579375]\n",
      " [-1.09661429  0.01440714]\n",
      " [-0.31745423  0.01538219]\n",
      " [-0.48776035  0.01641877]\n",
      " [-0.26918749  0.01359964]\n",
      " [-0.93140437  0.01731289]\n",
      " [-0.59059059  0.01425895]\n",
      " [ 0.5936432   0.01730175]\n",
      " [-0.22713557  0.01878263]]\n"
     ]
    }
   ],
   "source": [
    "X = np.column_stack((logw,logh))\n",
    "print(X)"
   ]
  },
  {
   "cell_type": "code",
   "execution_count": 59,
   "metadata": {},
   "outputs": [
    {
     "data": {
      "image/png": "[encoded data removed]",
      "text/plain": [
       "<Figure size 432x288 with 1 Axes>"
      ]
     },
     "metadata": {
      "needs_background": "light"
     },
     "output_type": "display_data"
    }
   ],
   "source": [
    "wcss = []\n",
    "for i in range(1, 11):\n",
    "    kmeans = KMeans(n_clusters=i, init='k-means++', max_iter=300, n_init=10, random_state=0)\n",
    "    kmeans.fit(X)\n",
    "    wcss.append(kmeans.inertia_)\n",
    "plt.plot(range(1, 11), wcss)\n",
    "plt.title('Elbow Method')\n",
    "plt.xlabel('Number of clusters')\n",
    "plt.ylabel('WCSS')\n",
    "plt.show()"
   ]
  },
  {
   "cell_type": "markdown",
   "metadata": {},
   "source": [
    "## 3 seems to be the appropriate no. of clusters"
   ]
  },
  {
   "cell_type": "code",
   "execution_count": 53,
   "metadata": {},
   "outputs": [
    {
     "data": {
      "image/png": "[encoded data removed]",
      "text/plain": [
       "<Figure size 432x288 with 1 Axes>"
      ]
     },
     "metadata": {
      "needs_background": "light"
     },
     "output_type": "display_data"
    }
   ],
   "source": [
    "import seaborn as sns\n",
    "\n",
    "kmeans = KMeans(n_clusters=3, init='k-means++', max_iter=300, n_init=10, random_state=0)\n",
    "pred_y = kmeans.fit_predict(X)\n",
    "\n",
    "legend = []\n",
    "for i in np.unique(pred_y):\n",
    "    legend.append('Cluster {0}'.format(i))\n",
    "    \n",
    "    \n",
    "plt.scatter(X[:,0], X[:,1], c=kmeans.fit(X).labels_.astype(float))\n",
    "plt.scatter(kmeans.cluster_centers_[:, 0], kmeans.cluster_centers_[:, 1], s=300, c='red')\n",
    "plt.xlabel(\"Normalised bbox width\")\n",
    "plt.ylabel(\"Normalised bbox height\")\n",
    "plt.title(\"K-Means cluster on anchor box dimensions\")\n",
    "plt.show()"
   ]
  },
  {
   "cell_type": "markdown",
   "metadata": {},
   "source": [
    "#### The large red dots represent the centroids of all clusters "
   ]
  }
 ],
 "metadata": {
  "kernelspec": {
   "display_name": "Python 3",
   "language": "python",
   "name": "python3"
  },
  "language_info": {
   "codemirror_mode": {
    "name": "ipython",
    "version": 3
   },
   "file_extension": ".py",
   "mimetype": "text/x-python",
   "name": "python",
   "nbconvert_exporter": "python",
   "pygments_lexer": "ipython3",
   "version": "3.7.3"
  }
 },
 "nbformat": 4,
 "nbformat_minor": 2
}
